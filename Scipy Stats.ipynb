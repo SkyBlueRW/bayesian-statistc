{
 "cells": [
  {
   "cell_type": "code",
   "execution_count": 1,
   "metadata": {},
   "outputs": [],
   "source": [
    "from scipy import stats"
   ]
  },
  {
   "cell_type": "markdown",
   "metadata": {},
   "source": [
    "# document reference\n",
    "doc: https://docs.scipy.org/doc/scipy/reference/stats.html\n",
    "\n",
    "## Distribution"
   ]
  },
  {
   "cell_type": "code",
   "execution_count": 6,
   "metadata": {},
   "outputs": [
    {
     "data": {
      "text/plain": [
       "['alpha',\n",
       " 'anglit',\n",
       " 'arcsine',\n",
       " 'argus',\n",
       " 'beta',\n",
       " 'betaprime',\n",
       " 'bradford',\n",
       " 'burr',\n",
       " 'burr12',\n",
       " 'cauchy',\n",
       " 'chi',\n",
       " 'chi2',\n",
       " 'cosine',\n",
       " 'crystalball',\n",
       " 'dgamma',\n",
       " 'dweibull',\n",
       " 'erlang',\n",
       " 'expon',\n",
       " 'exponnorm',\n",
       " 'exponpow',\n",
       " 'exponweib',\n",
       " 'f',\n",
       " 'fatiguelife',\n",
       " 'fisk',\n",
       " 'foldcauchy',\n",
       " 'foldnorm',\n",
       " 'gamma',\n",
       " 'gausshyper',\n",
       " 'genexpon',\n",
       " 'genextreme',\n",
       " 'gengamma',\n",
       " 'genhalflogistic',\n",
       " 'genhyperbolic',\n",
       " 'geninvgauss',\n",
       " 'genlogistic',\n",
       " 'gennorm',\n",
       " 'genpareto',\n",
       " 'gibrat',\n",
       " 'gompertz',\n",
       " 'gumbel_l',\n",
       " 'gumbel_r',\n",
       " 'halfcauchy',\n",
       " 'halfgennorm',\n",
       " 'halflogistic',\n",
       " 'halfnorm',\n",
       " 'hypsecant',\n",
       " 'invgamma',\n",
       " 'invgauss',\n",
       " 'invweibull',\n",
       " 'jf_skew_t',\n",
       " 'johnsonsb',\n",
       " 'johnsonsu',\n",
       " 'kappa3',\n",
       " 'kappa4',\n",
       " 'ksone',\n",
       " 'kstwo',\n",
       " 'kstwobign',\n",
       " 'laplace',\n",
       " 'laplace_asymmetric',\n",
       " 'levy',\n",
       " 'levy_l',\n",
       " 'levy_stable',\n",
       " 'loggamma',\n",
       " 'logistic',\n",
       " 'loglaplace',\n",
       " 'lognorm',\n",
       " 'loguniform',\n",
       " 'lomax',\n",
       " 'maxwell',\n",
       " 'mielke',\n",
       " 'moyal',\n",
       " 'nakagami',\n",
       " 'ncf',\n",
       " 'nct',\n",
       " 'ncx2',\n",
       " 'norm',\n",
       " 'norminvgauss',\n",
       " 'pareto',\n",
       " 'pearson3',\n",
       " 'powerlaw',\n",
       " 'powerlognorm',\n",
       " 'powernorm',\n",
       " 'rayleigh',\n",
       " 'rdist',\n",
       " 'recipinvgauss',\n",
       " 'reciprocal',\n",
       " 'rel_breitwigner',\n",
       " 'rice',\n",
       " 'semicircular',\n",
       " 'skewcauchy',\n",
       " 'skewnorm',\n",
       " 'studentized_range',\n",
       " 't',\n",
       " 'trapezoid',\n",
       " 'trapz',\n",
       " 'triang',\n",
       " 'truncexpon',\n",
       " 'truncnorm',\n",
       " 'truncpareto',\n",
       " 'truncweibull_min',\n",
       " 'tukeylambda',\n",
       " 'uniform',\n",
       " 'vonmises',\n",
       " 'vonmises_line',\n",
       " 'wald',\n",
       " 'weibull_max',\n",
       " 'weibull_min',\n",
       " 'wrapcauchy']"
      ]
     },
     "execution_count": 6,
     "metadata": {},
     "output_type": "execute_result"
    }
   ],
   "source": [
    "dist_continu = [d for d in dir(stats) if\n",
    "                isinstance(getattr(stats, d), stats.rv_continuous)]\n",
    "dist_continu"
   ]
  },
  {
   "cell_type": "code",
   "execution_count": 7,
   "metadata": {},
   "outputs": [
    {
     "data": {
      "text/plain": [
       "['bernoulli',\n",
       " 'betabinom',\n",
       " 'betanbinom',\n",
       " 'binom',\n",
       " 'boltzmann',\n",
       " 'dlaplace',\n",
       " 'geom',\n",
       " 'hypergeom',\n",
       " 'logser',\n",
       " 'nbinom',\n",
       " 'nchypergeom_fisher',\n",
       " 'nchypergeom_wallenius',\n",
       " 'nhypergeom',\n",
       " 'planck',\n",
       " 'poisson',\n",
       " 'randint',\n",
       " 'skellam',\n",
       " 'yulesimon',\n",
       " 'zipf',\n",
       " 'zipfian']"
      ]
     },
     "execution_count": 7,
     "metadata": {},
     "output_type": "execute_result"
    }
   ],
   "source": [
    "dist_discrete = [d for d in dir(stats) if\n",
    "                 isinstance(getattr(stats, d), stats.rv_discrete)]\n",
    "dist_discrete"
   ]
  },
  {
   "cell_type": "markdown",
   "metadata": {},
   "source": [
    "**common method**\n",
    "\n",
    "The loc keyword specifies mean and scale keyward specifies the standard deviation\n",
    "\n",
    "- rvs: Random Variable generation\n",
    "- pdf: Probability Density Function\n",
    "- cdf: Cumulative Distribution Function\n",
    "- sf: Survival Function (1-CDF)\n",
    "- ppf: Percent Point Function (Inverse of CDF)\n",
    "- isf: Inverse Survival Function (Inverse of SF)\n",
    "- moment: non-central moments of distribution\n"
   ]
  },
  {
   "cell_type": "markdown",
   "metadata": {},
   "source": [
    "Binomial"
   ]
  },
  {
   "cell_type": "code",
   "execution_count": 18,
   "metadata": {},
   "outputs": [
    {
     "data": {
      "text/plain": [
       "(12.0, 2.6832815729997477, 0.902943156179251)"
      ]
     },
     "execution_count": 18,
     "metadata": {},
     "output_type": "execute_result"
    }
   ],
   "source": [
    "n = 30\n",
    "p = 0.4\n",
    "(stats.binom(n, p).mean(), stats.binom(n, p).std(), stats.binom(n, p).cdf(15))"
   ]
  },
  {
   "cell_type": "code",
   "execution_count": null,
   "metadata": {},
   "outputs": [],
   "source": []
  }
 ],
 "metadata": {
  "kernelspec": {
   "display_name": "Python 3",
   "language": "python",
   "name": "python3"
  },
  "language_info": {
   "codemirror_mode": {
    "name": "ipython",
    "version": 3
   },
   "file_extension": ".py",
   "mimetype": "text/x-python",
   "name": "python",
   "nbconvert_exporter": "python",
   "pygments_lexer": "ipython3",
   "version": "3.10.13"
  }
 },
 "nbformat": 4,
 "nbformat_minor": 2
}
